{
 "cells": [
  {
   "cell_type": "code",
   "execution_count": 1,
   "metadata": {},
   "outputs": [],
   "source": [
    "#import the libraries\n",
    "from PIL import Image\n",
    "from pytesseract import pytesseract\n",
    "import pandas as pd"
   ]
  },
  {
   "cell_type": "code",
   "execution_count": 2,
   "metadata": {},
   "outputs": [],
   "source": [
    "#read the images\n",
    "im1 = Image.open('Walmart.PNG')\n",
    "im2 = Image.open('Amazon.PNG')"
   ]
  },
  {
   "cell_type": "code",
   "execution_count": 3,
   "metadata": {},
   "outputs": [
    {
     "data": {
      "image/png": "[encoded data removed]",
      "text/plain": [
       "<PIL.PngImagePlugin.PngImageFile image mode=RGBA size=270x176 at 0x2199CF64AC8>"
      ]
     },
     "execution_count": 3,
     "metadata": {},
     "output_type": "execute_result"
    }
   ],
   "source": [
    "#display the image img1\n",
    "im1"
   ]
  },
  {
   "cell_type": "code",
   "execution_count": 5,
   "metadata": {},
   "outputs": [
    {
     "data": {
      "image/png": "[encoded data removed]",
      "text/plain": [
       "<PIL.PngImagePlugin.PngImageFile image mode=RGBA size=240x175 at 0x2199D008A20>"
      ]
     },
     "execution_count": 5,
     "metadata": {},
     "output_type": "execute_result"
    }
   ],
   "source": [
    "#display the image img2\n",
    "im2"
   ]
  },
  {
   "cell_type": "code",
   "execution_count": 6,
   "metadata": {},
   "outputs": [],
   "source": [
    "#fetch the text in english from the image img1 & img2 \n",
    "tx1 = pytesseract.image_to_string(im1, lang='eng')\n",
    "tx2 = pytesseract.image_to_string(im2, lang='eng')"
   ]
  },
  {
   "cell_type": "code",
   "execution_count": 7,
   "metadata": {},
   "outputs": [],
   "source": [
    "#convert everything to lower case cuz in the process we might get error cuz of mismatch when comparing strings\n",
    "tx1 = tx1.lower()\n",
    "tx2 = tx2.lower()"
   ]
  },
  {
   "cell_type": "code",
   "execution_count": 8,
   "metadata": {},
   "outputs": [],
   "source": [
    "#function to split the text fetched from image in a representable form \n",
    "def spl_func(text):\n",
    "    list = []\n",
    "    sp = text.split('\\n')\n",
    "    for i in sp:\n",
    "        ve = i.split(' ')\n",
    "        for t in [ve]:\n",
    "            if len(t) == 1:\n",
    "                if t[0] == '':\n",
    "                    continue\n",
    "                t.append(' ')\n",
    "            list.append(t)\n",
    "    #print(list)\n",
    "    df = pd.DataFrame(list)\n",
    "    return df"
   ]
  },
  {
   "cell_type": "code",
   "execution_count": 9,
   "metadata": {},
   "outputs": [],
   "source": [
    "#call the function spl_func and store the values in dataFrame df1 and df2 \n",
    "df2 = spl_func(tx1)\n",
    "df1 = spl_func(tx2)"
   ]
  },
  {
   "cell_type": "code",
   "execution_count": 10,
   "metadata": {},
   "outputs": [
    {
     "name": "stdout",
     "output_type": "stream",
     "text": [
      "        0   1\n",
      "0  amazon    \n",
      "1     jbl  29\n",
      "2    sony  60\n",
      "         0   1\n",
      "0  walmart    \n",
      "1     sony  50\n",
      "2      jbl  30\n"
     ]
    }
   ],
   "source": [
    "#print the values of dataFrame\n",
    "print(df1)\n",
    "print(df2)"
   ]
  },
  {
   "cell_type": "code",
   "execution_count": 11,
   "metadata": {},
   "outputs": [],
   "source": [
    "#create a list of the dataFrame\n",
    "df_list = [df1, df2]"
   ]
  },
  {
   "cell_type": "code",
   "execution_count": 12,
   "metadata": {},
   "outputs": [
    {
     "name": "stdout",
     "output_type": "stream",
     "text": [
      "Enter Product : jbl\n"
     ]
    }
   ],
   "source": [
    "#get a user input for the desired product\n",
    "pr = input(\"Enter Product : \")"
   ]
  },
  {
   "cell_type": "code",
   "execution_count": 13,
   "metadata": {},
   "outputs": [],
   "source": [
    "# create a key value pair i.e. dictinary for the vendor as key and amount as the value \n",
    "l={}\n",
    "val = []\n",
    "for idx, i in enumerate(df_list):\n",
    "    for j in range(len(i)):\n",
    "        if pr == i.iloc[j][0]:\n",
    "            k = i.iloc[0][0]\n",
    "            v = i.iloc[j][1]\n",
    "            #val.append(i.iloc[j][1])\n",
    "            l.update({k : v })"
   ]
  },
  {
   "cell_type": "code",
   "execution_count": 14,
   "metadata": {},
   "outputs": [],
   "source": [
    "#sort the dictinory\n",
    "l =sorted(l.items(), key=lambda l: l[1])"
   ]
  },
  {
   "cell_type": "code",
   "execution_count": 15,
   "metadata": {},
   "outputs": [
    {
     "name": "stdout",
     "output_type": "stream",
     "text": [
      "You can get the cheapest price of jbl at amazon for a price of $29\n"
     ]
    }
   ],
   "source": [
    "#output to the user\n",
    "print(\"You can get the cheapest price of \"+ pr + \" at \" + l[0][0] + \" for a price of $\" + l[0][1])"
   ]
  }
 ],
 "metadata": {
  "kernelspec": {
   "display_name": "Python 3",
   "language": "python",
   "name": "python3"
  },
  "language_info": {
   "codemirror_mode": {
    "name": "ipython",
    "version": 3
   },
   "file_extension": ".py",
   "mimetype": "text/x-python",
   "name": "python",
   "nbconvert_exporter": "python",
   "pygments_lexer": "ipython3",
   "version": "3.6.5"
  }
 },
 "nbformat": 4,
 "nbformat_minor": 2
}
